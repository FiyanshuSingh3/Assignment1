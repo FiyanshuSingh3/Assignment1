{
 "cells": [
  {
   "cell_type": "code",
   "execution_count": 2,
   "id": "ee04cdd0-590a-41ba-9f8e-3168b407a397",
   "metadata": {},
   "outputs": [],
   "source": [
    "                                                     # Operators \n",
    "# Exercise 1: Arithmetic Operators"
   ]
  },
  {
   "cell_type": "code",
   "execution_count": 62,
   "id": "11cfa707-fd06-4922-a969-8bdc9e702a7a",
   "metadata": {},
   "outputs": [
    {
     "name": "stdin",
     "output_type": "stream",
     "text": [
      "Enter the first number:  10\n",
      "Enter the second number:  3\n"
     ]
    },
    {
     "name": "stdout",
     "output_type": "stream",
     "text": [
      "Addition:13.0 \n",
      "Subtraction: 7.0\n",
      "Multiplication: 30.0\n",
      "Division: 3.3333333333333335\n",
      "Modulus: 1.0\n",
      "Exponentiation : 1000.0\n",
      "Floor Division: 3.0\n"
     ]
    }
   ],
   "source": [
    "# 1. Add, subtract, multiply, and divide two numbers (input by the user)\n",
    "\n",
    "num1 = float(input(\"Enter the first number: \"))\n",
    "num2 = float(input(\"Enter the second number: \"))\n",
    "\n",
    "    \n",
    "addition = num1 + num2\n",
    "subtraction = num1 - num2\n",
    "multiplication = num1 * num2\n",
    "division = num1 / num2 \n",
    "modulus = num1 % num2 \n",
    "exponentiation = num1 ** num2\n",
    "floor_division = num1 // num2 \n",
    "\n",
    "\n",
    "print(f\"Addition:{addition} \")\n",
    "print(f\"Subtraction: {subtraction}\")\n",
    "print(f\"Multiplication: {multiplication}\")\n",
    "print(f\"Division: {division}\")\n",
    "print(f\"Modulus: {modulus}\")\n",
    "print(f\"Exponentiation : {exponentiation}\")\n",
    "print(f\"Floor Division: {floor_division}\")\n",
    "\n",
    "\n"
   ]
  },
  {
   "cell_type": "code",
   "execution_count": 22,
   "id": "f7a4de68-6ebb-4c9b-b173-3a5f61596615",
   "metadata": {},
   "outputs": [
    {
     "name": "stdin",
     "output_type": "stream",
     "text": [
      "Enter the first number:  10\n",
      "Enter the second number:  3\n"
     ]
    },
    {
     "name": "stdout",
     "output_type": "stream",
     "text": [
      "\n",
      "--- Results ---\n",
      "Addition: 13.0\n",
      "Subtraction: 7.0\n",
      "Multiplication: 30.0\n",
      "Division: 3.3333333333333335\n",
      "Modulus: 1.0\n",
      "Exponentiation : 1000.0\n",
      "Floor Division: 3.0\n",
      "\n",
      "--- Comparison Results ---\n",
      "The first number is greater than the second.\n"
     ]
    }
   ],
   "source": [
    "                              # Comparison Operators \n",
    "# 1. If the first number is greater than the second. \n",
    "# 2. If the first number is equal to the second. \n",
    "# 3. If the first number is less than or equal to the second. \n",
    "\n",
    "# Function to perform various arithmetic operations and comparisons\n",
    "\n",
    "num1 = float(input(\"Enter the first number: \"))\n",
    "num2 = float(input(\"Enter the second number: \"))\n",
    "\n",
    "    \n",
    "addition = num1 + num2\n",
    "subtraction = num1 - num2\n",
    "multiplication = num1 * num2\n",
    "division = num1 / num2  \n",
    "modulus = num1 % num2  \n",
    "exponentiation = num1 ** num2\n",
    "floor_division = num1 // num2  \n",
    "\n",
    "    \n",
    "print(\"\\n--- Results ---\")\n",
    "print(f\"Addition: {addition}\")\n",
    "print(f\"Subtraction: {subtraction}\")\n",
    "print(f\"Multiplication: {multiplication}\")\n",
    "print(f\"Division: {division}\")\n",
    "print(f\"Modulus: {modulus}\")\n",
    "print(f\"Exponentiation : {exponentiation}\")\n",
    "print(f\"Floor Division: {floor_division}\")\n",
    "\n",
    "    \n",
    "print(\"\\n--- Comparison Results ---\")\n",
    "if num1 > num2:\n",
    "    print(\"The first number is greater than the second.\")\n",
    "elif num1 == num2:\n",
    "    print(\"The first number is equal to the second.\")\n",
    "else:\n",
    "    print(\"The first number is less than or equal to the second.\")\n",
    "\n",
    "\n"
   ]
  },
  {
   "cell_type": "code",
   "execution_count": 24,
   "id": "8abe617e-81de-4d18-b4da-07c5aa63d6e5",
   "metadata": {},
   "outputs": [
    {
     "name": "stdin",
     "output_type": "stream",
     "text": [
      "Enter the first boolean value (True/False):  8\n",
      "Enter the second boolean value (True/False):  9\n",
      "Enter the third boolean value (True/False):  3\n"
     ]
    },
    {
     "name": "stdout",
     "output_type": "stream",
     "text": [
      "\n",
      "--- Boolean Operations Results ---\n",
      "AND operation (bool1 and bool2 and bool3): False\n",
      "OR operation (bool1 or bool2 or bool3): False\n",
      "NOT operation on bool1: True\n",
      "NOT operation on bool2: True\n",
      "NOT operation on bool3: True\n"
     ]
    }
   ],
   "source": [
    "                     # LOGICAL OPERATORS\n",
    "# Write a Python program that: \n",
    "# 1. Takes three boolean values (True or False) as input. \n",
    "# 2. Uses and, or, and not operators to return the result of combining them. \n",
    "\n",
    "\n",
    "bool1 = input(\"Enter the first boolean value (True/False): \").strip().lower() == 'true'\n",
    "bool2 = input(\"Enter the second boolean value (True/False): \").strip().lower() == 'true'\n",
    "bool3 = input(\"Enter the third boolean value (True/False): \").strip().lower() == 'true'\n",
    "\n",
    "    \n",
    "result_and = bool1 and bool2 and bool3\n",
    "result_or = bool1 or bool2 or bool3\n",
    "result_not1 = not bool1\n",
    "result_not2 = not bool2\n",
    "result_not3 = not bool3\n",
    "\n",
    "    \n",
    "print(\"\\n--- Boolean Operations Results ---\")\n",
    "print(f\"AND operation (bool1 and bool2 and bool3): {result_and}\")\n",
    "print(f\"OR operation (bool1 or bool2 or bool3): {result_or}\")\n",
    "print(f\"NOT operation on bool1: {result_not1}\")\n",
    "print(f\"NOT operation on bool2: {result_not2}\")\n",
    "print(f\"NOT operation on bool3: {result_not3}\")\n",
    "\n",
    "\n",
    "\n"
   ]
  },
  {
   "cell_type": "code",
   "execution_count": 26,
   "id": "a69944a8-d34f-4d5f-a1b9-beed569e6130",
   "metadata": {},
   "outputs": [
    {
     "name": "stdin",
     "output_type": "stream",
     "text": [
      "Enter a string:  Fiyanshu\n"
     ]
    },
    {
     "name": "stdout",
     "output_type": "stream",
     "text": [
      "\n",
      "--- String Operations Results ---\n",
      "Length of the string: 8\n",
      "First character: F\n",
      "Last character: u\n",
      "Reversed string: uhsnayiF\n",
      "String in uppercase: FIYANSHU\n",
      "String in lowercase: fiyanshu\n"
     ]
    }
   ],
   "source": [
    "                                 # STRINGS  \n",
    "\n",
    "# 1. Take a string input from the user. \n",
    "# 2. Display the following: \n",
    "# o The length of the string. \n",
    "# o The first and last character. \n",
    "# o The string in reverse order. \n",
    "# o The string in uppercase and lowercase. \n",
    "\n",
    "    \n",
    "user_string = input(\"Enter a string: \")\n",
    "string_length = len(user_string)\n",
    "\n",
    "first_character = user_string[0] if string_length > 0 else \"No characters\"\n",
    "last_character = user_string[-1] if string_length > 0 else \"No characters\"\n",
    "\n",
    "reversed_string = user_string[::-1]\n",
    "\n",
    "uppercase_string = user_string.upper()\n",
    "lowercase_string = user_string.lower()\n",
    "\n",
    "print(\"\\n--- String Operations Results ---\")\n",
    "print(f\"Length of the string: {string_length}\")\n",
    "print(f\"First character: {first_character}\")\n",
    "print(f\"Last character: {last_character}\")\n",
    "print(f\"Reversed string: {reversed_string}\")\n",
    "print(f\"String in uppercase: {uppercase_string}\")\n",
    "print(f\"String in lowercase: {lowercase_string}\")\n",
    "\n",
    "\n"
   ]
  },
  {
   "cell_type": "code",
   "execution_count": 28,
   "id": "75c2a3c2-8b96-4590-96a8-8f14a631116c",
   "metadata": {},
   "outputs": [
    {
     "name": "stdin",
     "output_type": "stream",
     "text": [
      "Please enter your name:  Fiyanshu\n",
      "Please enter your age:  21\n"
     ]
    },
    {
     "name": "stdout",
     "output_type": "stream",
     "text": [
      "Hello Fiyanshu, you are 21 years old.\n"
     ]
    }
   ],
   "source": [
    "# Write a program that asks for the user's name and age, and displays the message in this format: \n",
    "# Hello [Name], you are [Age] years old.\n",
    "\n",
    "\n",
    "name = input(\"Please enter your name: \")\n",
    "age = input(\"Please enter your age: \")\n",
    "print(f\"Hello {name}, you are {age} years old.\")\n",
    "\n"
   ]
  },
  {
   "cell_type": "code",
   "execution_count": 36,
   "id": "00e4e4c0-679b-46ea-a3df-21f5ebed0bca",
   "metadata": {},
   "outputs": [
    {
     "name": "stdin",
     "output_type": "stream",
     "text": [
      "Please enter a sentence:   Hey I  am a Coder \n",
      "Please enter a word to search for:  code\n"
     ]
    },
    {
     "name": "stdout",
     "output_type": "stream",
     "text": [
      "The word 'code' does not exist in the sentence.\n"
     ]
    }
   ],
   "source": [
    "                         # Substring Search\n",
    "# 1. Asks for a sentence input from the user. \n",
    "# 2. Asks for a word to search in the sentence. \n",
    "# 3. Outputs whether the word exists in the sentence and, if it does, at which position (index). \n",
    "\n",
    "\n",
    "\n",
    "sentence = input(\"Please enter a sentence: \")\n",
    "word = input(\"Please enter a word to search for: \")\n",
    "if word in sentence:\n",
    "    position = sentence.index(word)  \n",
    "    print(f\"The word '{word}' exists in the sentence at index {position}.\")\n",
    "else:\n",
    "    print(f\"The word '{word}' does not exist in the sentence.\")\n",
    "\n",
    "\n"
   ]
  },
  {
   "cell_type": "code",
   "execution_count": 38,
   "id": "de25f821-7a6f-4f19-b94b-64d9dc99ba9a",
   "metadata": {},
   "outputs": [
    {
     "name": "stdin",
     "output_type": "stream",
     "text": [
      "Enter number 1:  1\n",
      "Enter number 2:  2\n",
      "Enter number 3:  3\n",
      "Enter number 4:  4\n",
      "Enter number 5:  5\n"
     ]
    },
    {
     "name": "stdout",
     "output_type": "stream",
     "text": [
      "\n",
      "--- Results ---\n",
      "Sum of all numbers: 15.0\n",
      "Largest number: 5.0\n",
      "Smallest number: 1.0\n"
     ]
    }
   ],
   "source": [
    "                            # List\n",
    "\n",
    "# 1.Creates a list of 5 numbers (input from the user). \n",
    "# 2. Displays the sum of all the numbers in the list. \n",
    "# 3. Finds the largest and smallest number in the list. \n",
    "\n",
    "\n",
    "numbers = []\n",
    "\n",
    "for i in range(5):\n",
    "    num = float(input(f\"Enter number {i + 1}: \")) \n",
    "    numbers.append(num) \n",
    "\n",
    "total_sum = sum(numbers)\n",
    "\n",
    "    \n",
    "largest_number = max(numbers)\n",
    "smallest_number = min(numbers)\n",
    "\n",
    "print(\"\\n--- Results ---\")\n",
    "print(f\"Sum of all numbers: {total_sum}\")\n",
    "print(f\"Largest number: {largest_number}\")\n",
    "print(f\"Smallest number: {smallest_number}\")\n",
    "\n",
    "\n",
    "\n",
    "\n"
   ]
  },
  {
   "cell_type": "code",
   "execution_count": 40,
   "id": "a824053d-b53d-4948-9846-5f7b9a0b0562",
   "metadata": {},
   "outputs": [
    {
     "name": "stdout",
     "output_type": "stream",
     "text": [
      "Removed fruit: Banana\n",
      "\n",
      "Updated fruit list:\n",
      "['Apple', 'Cherry', 'Dragonfruit', 'Elderberry', 'Fig']\n"
     ]
    }
   ],
   "source": [
    "                              # LIST MANIPULATION\n",
    "# 1. Create a list of 5 of your favorite fruits. \n",
    "# 2. Perform the following: \n",
    "# o Add one more fruit to the list. \n",
    "# o Remove the second fruit from the list. \n",
    "# o Print the updated list.\n",
    "\n",
    "\n",
    "\n",
    "fruits = [\"Apple\", \"Banana\", \"Cherry\", \"Dragonfruit\", \"Elderberry\"]\n",
    "fruits.append(\"Fig\")  \n",
    "\n",
    "if len(fruits) > 1:  \n",
    "    removed_fruit = fruits.pop(1)\n",
    "    print(f\"Removed fruit: {removed_fruit}\")\n",
    "\n",
    "   \n",
    "print(\"\\nUpdated fruit list:\")\n",
    "print(fruits)\n",
    "\n",
    "\n"
   ]
  },
  {
   "cell_type": "code",
   "execution_count": 42,
   "id": "36625c73-6c7a-49d7-860d-bd7856437338",
   "metadata": {},
   "outputs": [
    {
     "name": "stdin",
     "output_type": "stream",
     "text": [
      "Enter number 1:  89\n",
      "Enter number 2:  9\n",
      "Enter number 3:  3\n",
      "Enter number 4:  22\n",
      "Enter number 5:  23\n"
     ]
    },
    {
     "name": "stdout",
     "output_type": "stream",
     "text": [
      "\n",
      "--- Sorted Lists ---\n",
      "Ascending order: [3.0, 9.0, 22.0, 23.0, 89.0]\n",
      "Descending order: [89.0, 23.0, 22.0, 9.0, 3.0]\n"
     ]
    }
   ],
   "source": [
    "                          # Sorting a List\n",
    "\n",
    "# 1. Asks the user to input a list of 5 numbers. \n",
    "# 2. Sorts the list in ascending order and displays it. \n",
    "# 3. Sorts the list in descending order and displays it.\n",
    "\n",
    "\n",
    "numbers = []\n",
    "for i in range(5):\n",
    "    num = float(input(f\"Enter number {i + 1}: \"))  \n",
    "    numbers.append(num) \n",
    "ascending_order = sorted(numbers)\n",
    "descending_order = sorted(numbers, reverse=True)\n",
    "\n",
    "print(\"\\n--- Sorted Lists ---\")\n",
    "print(f\"Ascending order: {ascending_order}\")\n",
    "print(f\"Descending order: {descending_order}\")\n",
    "\n",
    "\n",
    "\n",
    "\n"
   ]
  },
  {
   "cell_type": "code",
   "execution_count": 44,
   "id": "bf71a3d6-0a31-4427-90b4-79d9eb8b7e44",
   "metadata": {},
   "outputs": [
    {
     "name": "stdout",
     "output_type": "stream",
     "text": [
      "First 5 elements: [1, 2, 3, 4, 5]\n",
      "Last 5 elements: [6, 7, 8, 9, 10]\n",
      "Elements from index 2 to index 7: [3, 4, 5, 6, 7, 8]\n"
     ]
    }
   ],
   "source": [
    "                                 # List Slicing \n",
    "# Given the list numbers = [1, 2, 3, 4, 5, 6, 7, 8, 9, 10], perform the following:\n",
    "# 1. Print the first 5 elements. \n",
    "# 2. Print the last 5 elements. \n",
    "# 3. Print the elements from index 2 to index 7.\n",
    "\n",
    "\n",
    "\n",
    "\n",
    "numbers = [1, 2, 3, 4, 5, 6, 7, 8, 9, 10]\n",
    "\n",
    "first_five = numbers[:5]\n",
    "print(\"First 5 elements:\", first_five)\n",
    "\n",
    "\n",
    "last_five = numbers[-5:]\n",
    "print(\"Last 5 elements:\", last_five)\n",
    "\n",
    "\n",
    "elements_index_2_to_7 = numbers[2:8]  \n",
    "print(\"Elements from index 2 to index 7:\", elements_index_2_to_7)\n"
   ]
  },
  {
   "cell_type": "code",
   "execution_count": 58,
   "id": "9e1a35cc-a3ba-46b9-95aa-451326ac1633",
   "metadata": {},
   "outputs": [
    {
     "name": "stdin",
     "output_type": "stream",
     "text": [
      "Enter the name of student 1:  Fiyanshu\n",
      "Enter score for subject 1:  89\n",
      "Enter score for subject 2:  90\n",
      "Enter score for subject 3:  88\n",
      "Enter the name of student 2:  Sohan\n",
      "Enter score for subject 1:  78\n",
      "Enter score for subject 2:  79\n",
      "Enter score for subject 3:  88\n",
      "Enter the name of student 3:  Nitish\n",
      "Enter score for subject 1:  87\n",
      "Enter score for subject 2:  78\n",
      "Enter score for subject 3:  60\n"
     ]
    },
    {
     "name": "stdout",
     "output_type": "stream",
     "text": [
      "\n",
      "--- Student Averages ---\n",
      "Fiyanshu: Average Score = 89.00\n",
      "Fiyanshu: Average Score = 89.00\n",
      "Fiyanshu: Average Score = 89.00\n",
      "Sohan: Average Score = 81.67\n",
      "Sohan: Average Score = 81.67\n",
      "Sohan: Average Score = 81.67\n",
      "Nitish: Average Score = 75.00\n",
      "Nitish: Average Score = 75.00\n",
      "Nitish: Average Score = 75.00\n"
     ]
    }
   ],
   "source": [
    "                              # NESTED LIST\n",
    "\n",
    "\n",
    "# 1. Takes input of 3 students' names and their respective scores in 3 subjects. \n",
    "# 2. Stores them in a nested list. \n",
    "# 3. Prints each student's name and their average score.\n",
    "\n",
    "\n",
    "students = []\n",
    "for i in range(3):\n",
    "    name = input(f\"Enter the name of student {i + 1}: \")  \n",
    "    scores = [] \n",
    "    \n",
    "    for j in range(3):\n",
    "        score = float(input(f\"Enter score for subject {j + 1}: \"))\n",
    "        scores.append(score) \n",
    "        \n",
    "        students.append([name, scores])\n",
    "print(\"\\n--- Student Averages ---\")\n",
    "for student in students:\n",
    "        name = student[0]\n",
    "        scores = student[1]\n",
    "        average_score = sum(scores) / len(scores)  # Calculate average score\n",
    "        print(f\"{name}: Average Score = {average_score:.2f}\")\n",
    "\n",
    "\n",
    "\n"
   ]
  },
  {
   "cell_type": "code",
   "execution_count": null,
   "id": "900c5cd1-a6d2-4e07-87bc-a94a883ece92",
   "metadata": {},
   "outputs": [],
   "source": []
  }
 ],
 "metadata": {
  "kernelspec": {
   "display_name": "Python 3 (ipykernel)",
   "language": "python",
   "name": "python3"
  },
  "language_info": {
   "codemirror_mode": {
    "name": "ipython",
    "version": 3
   },
   "file_extension": ".py",
   "mimetype": "text/x-python",
   "name": "python",
   "nbconvert_exporter": "python",
   "pygments_lexer": "ipython3",
   "version": "3.12.4"
  }
 },
 "nbformat": 4,
 "nbformat_minor": 5
}
